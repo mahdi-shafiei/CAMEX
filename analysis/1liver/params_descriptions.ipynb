{
 "cells": [
  {
   "cell_type": "markdown",
   "id": "98aac0b1-52a9-44ee-b397-50c8d493001c",
   "metadata": {},
   "source": [
    "# Params description"
   ]
  },
  {
   "cell_type": "code",
   "execution_count": 1,
   "id": "2fcf7724-9e70-4c35-9d01-9edbe801e0e9",
   "metadata": {},
   "outputs": [],
   "source": [
    "import pandas as pd"
   ]
  },
  {
   "cell_type": "code",
   "execution_count": 2,
   "id": "c669e5bf-06b5-4e9a-9a9b-38f16ca42317",
   "metadata": {},
   "outputs": [],
   "source": [
    "PARAMS = \\\n",
    "    {'preprocess':\n",
    "        {\n",
    "            # We only recommend modifying the following 2 hyperparameter including path and dataset_file.\n",
    "            'path': './dataset/',\n",
    "            'dataset_file': pd.DataFrame(\n",
    "                [['raw-liver-human-Martin.h5ad', True, 'gene_matches_human2monkey.csv',\n",
    "                  'raw-liver-monkey-Martin.h5ad', False],\n",
    "\n",
    "                 ['raw-liver-human-Martin.h5ad', True, 'gene_matches_human2mouse.csv',\n",
    "                  'raw-liver-mouse-Martin.h5ad', False],\n",
    "\n",
    "                 ['raw-liver-human-Martin.h5ad', True, 'gene_matches_human2zebrafish.csv',\n",
    "                  'raw-liver-zebrafish-ggj5.h5ad', False],\n",
    "\n",
    "                 ],\n",
    "                # 'specie1 dataset', 'True represents specie1 dataset has the manual annotations, and vice versa does not', 'many-to-many homologous genes', 'specie2 dataset', 'True represents specie2 dataset has the manual annotations, and vice versa does not'.\n",
    "                columns=['source', 'source label', 'relationship', 'destination', 'destination label']),  # column names indicate the above files\n",
    "\n",
    "            # do not need to change\n",
    "            'graph_mode': 'undirected',  # undirected or directed, default undirected\n",
    "            'feature_gene': 'HIG',  # feature type\n",
    "            'sample_ratio': 1,  # default 1, set to ratio of (0, 1] to down sample the dataset\n",
    "            'get_balance': 'False'  # set ref and query with the same cell type\n",
    "        },\n",
    "\n",
    "        'train': {\n",
    "            # We only recommend modifying the following 5 hyperparameter or use the default value.\n",
    "            'device': 'cuda:0',  # cpu or cuda\n",
    "            'train_mode': 'mini_batch',  # mini_batch or full batch\n",
    "            'epoch_integration': 10,   # integration epoch\n",
    "            'epoch_annotation': 10,  # annotation epoch\n",
    "            'batch_size': 1024,  # batch_size\n",
    "\n",
    "            # do not need to change\n",
    "            'dim_hidden': 128,  # the dims of cell or gene embedding\n",
    "            'gnn_layer_num': 2,  # the number of gnn layers\n",
    "            'encoder': 'GCN',   # the type of gnn encoder\n",
    "            'classifier': 'GAT',  # the type of classifier encoder\n",
    "            'res': True,   # use residual or not\n",
    "            'share': True,   # share the parameters or not\n",
    "            'cluster': False,   # the epoch of clusters in training step\n",
    "            'epoch_cluster': 10,   # the number of epochs for clustering in training step\n",
    "            'cluster_num': 5,  # the number of clusters in training step\n",
    "            'domain': False,  # use domain adaption or not\n",
    "            'reconstruct': True,  # reconstruct the node feature or not\n",
    "\n",
    "        },\n",
    "\n",
    "        'postprocess': {}\n",
    "    }"
   ]
  },
  {
   "cell_type": "code",
   "execution_count": null,
   "id": "aea6682c-774a-4901-94b6-2cb6580e4535",
   "metadata": {},
   "outputs": [],
   "source": []
  },
  {
   "cell_type": "markdown",
   "id": "7e67b21f-92aa-40f2-b501-d416f2f87a7e",
   "metadata": {},
   "source": [
    "# For simplicity, we only need to change the input data to run CAMEX of your own data"
   ]
  },
  {
   "cell_type": "markdown",
   "id": "56121190-1227-497e-811b-517331c3f137",
   "metadata": {},
   "source": [
    "## We put the gene expression \".h5ad\" files and many-to-many homologous genes \".csv\" files in the dataset folder."
   ]
  },
  {
   "cell_type": "markdown",
   "id": "7c651c54-f908-43fa-9587-408f793f6998",
   "metadata": {},
   "source": [
    "## We recommend to use the \"raw-organ-specie-dataset name.h5ad\" to name gene expression, because we will calculate the relationships between the datasets in CAMEX."
   ]
  },
  {
   "cell_type": "code",
   "execution_count": 3,
   "id": "faeec2d1-5356-4620-912b-0339186bb699",
   "metadata": {},
   "outputs": [
    {
     "data": {
      "text/html": [
       "<img src=\"./files.png\", width = 800, heigth = 400>\n"
      ],
      "text/plain": [
       "<IPython.core.display.HTML object>"
      ]
     },
     "metadata": {},
     "output_type": "display_data"
    }
   ],
   "source": [
    "%%html\n",
    "<img src=\"./files.png\", width = 800, heigth = 400>"
   ]
  },
  {
   "cell_type": "code",
   "execution_count": null,
   "id": "b148d396-c9e0-45ee-9bd9-73f0cbe8e7ec",
   "metadata": {},
   "outputs": [],
   "source": []
  },
  {
   "cell_type": "markdown",
   "id": "ab749e82-ba92-4097-b101-7c5f830fc19d",
   "metadata": {},
   "source": [
    "## adata.obs must have a column of cell_ontology_class"
   ]
  },
  {
   "cell_type": "code",
   "execution_count": 4,
   "id": "8aa981ed-9ca3-4a82-af29-f53fb12f2000",
   "metadata": {},
   "outputs": [
    {
     "name": "stderr",
     "output_type": "stream",
     "text": [
      "C:\\Users\\10360\\anaconda3\\envs\\camex\\lib\\site-packages\\tqdm\\auto.py:21: TqdmWarning: IProgress not found. Please update jupyter and ipywidgets. See https://ipywidgets.readthedocs.io/en/stable/user_install.html\n",
      "  from .autonotebook import tqdm as notebook_tqdm\n"
     ]
    }
   ],
   "source": [
    "import scanpy as sc"
   ]
  },
  {
   "cell_type": "code",
   "execution_count": 5,
   "id": "9e96de10-2014-4ac5-94fe-0739a32bd33e",
   "metadata": {},
   "outputs": [
    {
     "name": "stderr",
     "output_type": "stream",
     "text": [
      "C:\\Users\\10360\\AppData\\Roaming\\Python\\Python39\\site-packages\\anndata\\_core\\anndata.py:1908: UserWarning: Variable names are not unique. To make them unique, call `.var_names_make_unique`.\n",
      "  utils.warn_names_duplicates(\"var\")\n"
     ]
    },
    {
     "data": {
      "text/html": [
       "<div>\n",
       "<style scoped>\n",
       "    .dataframe tbody tr th:only-of-type {\n",
       "        vertical-align: middle;\n",
       "    }\n",
       "\n",
       "    .dataframe tbody tr th {\n",
       "        vertical-align: top;\n",
       "    }\n",
       "\n",
       "    .dataframe thead th {\n",
       "        text-align: right;\n",
       "    }\n",
       "</style>\n",
       "<table border=\"1\" class=\"dataframe\">\n",
       "  <thead>\n",
       "    <tr style=\"text-align: right;\">\n",
       "      <th></th>\n",
       "      <th>UMAP_1</th>\n",
       "      <th>UMAP_2</th>\n",
       "      <th>cluster</th>\n",
       "      <th>annot</th>\n",
       "      <th>sample</th>\n",
       "      <th>patient</th>\n",
       "      <th>cell</th>\n",
       "      <th>digest</th>\n",
       "      <th>typeSample</th>\n",
       "      <th>diet</th>\n",
       "      <th>cell_ontology_class</th>\n",
       "    </tr>\n",
       "    <tr>\n",
       "      <th>cell</th>\n",
       "      <th></th>\n",
       "      <th></th>\n",
       "      <th></th>\n",
       "      <th></th>\n",
       "      <th></th>\n",
       "      <th></th>\n",
       "      <th></th>\n",
       "      <th></th>\n",
       "      <th></th>\n",
       "      <th></th>\n",
       "      <th></th>\n",
       "    </tr>\n",
       "  </thead>\n",
       "  <tbody>\n",
       "    <tr>\n",
       "      <th>AAAGTCCCAGGACAGT-40</th>\n",
       "      <td>-0.055124</td>\n",
       "      <td>4.632419</td>\n",
       "      <td>13</td>\n",
       "      <td>Macrophages</td>\n",
       "      <td>CS170</td>\n",
       "      <td>H38</td>\n",
       "      <td>AAAGTCCCAGGACAGT-40</td>\n",
       "      <td>nuclei</td>\n",
       "      <td>nucSeq</td>\n",
       "      <td>Lean</td>\n",
       "      <td>Macrophages</td>\n",
       "    </tr>\n",
       "    <tr>\n",
       "      <th>AACAAGAGTTTACTGG-40</th>\n",
       "      <td>0.180024</td>\n",
       "      <td>4.723650</td>\n",
       "      <td>13</td>\n",
       "      <td>Macrophages</td>\n",
       "      <td>CS170</td>\n",
       "      <td>H38</td>\n",
       "      <td>AACAAGAGTTTACTGG-40</td>\n",
       "      <td>nuclei</td>\n",
       "      <td>nucSeq</td>\n",
       "      <td>Lean</td>\n",
       "      <td>Macrophages</td>\n",
       "    </tr>\n",
       "    <tr>\n",
       "      <th>AAGCATCCAACCGCCA-40</th>\n",
       "      <td>0.172339</td>\n",
       "      <td>4.693343</td>\n",
       "      <td>13</td>\n",
       "      <td>Macrophages</td>\n",
       "      <td>CS170</td>\n",
       "      <td>H38</td>\n",
       "      <td>AAGCATCCAACCGCCA-40</td>\n",
       "      <td>nuclei</td>\n",
       "      <td>nucSeq</td>\n",
       "      <td>Lean</td>\n",
       "      <td>Macrophages</td>\n",
       "    </tr>\n",
       "    <tr>\n",
       "      <th>AAGGAATAGGCTGTAG-40</th>\n",
       "      <td>0.422765</td>\n",
       "      <td>4.473393</td>\n",
       "      <td>13</td>\n",
       "      <td>Macrophages</td>\n",
       "      <td>CS170</td>\n",
       "      <td>H38</td>\n",
       "      <td>AAGGAATAGGCTGTAG-40</td>\n",
       "      <td>nuclei</td>\n",
       "      <td>nucSeq</td>\n",
       "      <td>Lean</td>\n",
       "      <td>Macrophages</td>\n",
       "    </tr>\n",
       "    <tr>\n",
       "      <th>AAGTTCGAGTAAACTG-40</th>\n",
       "      <td>0.038288</td>\n",
       "      <td>4.285389</td>\n",
       "      <td>13</td>\n",
       "      <td>Macrophages</td>\n",
       "      <td>CS170</td>\n",
       "      <td>H38</td>\n",
       "      <td>AAGTTCGAGTAAACTG-40</td>\n",
       "      <td>nuclei</td>\n",
       "      <td>nucSeq</td>\n",
       "      <td>Lean</td>\n",
       "      <td>Macrophages</td>\n",
       "    </tr>\n",
       "  </tbody>\n",
       "</table>\n",
       "</div>"
      ],
      "text/plain": [
       "                       UMAP_1    UMAP_2  cluster        annot sample patient  \\\n",
       "cell                                                                           \n",
       "AAAGTCCCAGGACAGT-40 -0.055124  4.632419       13  Macrophages  CS170     H38   \n",
       "AACAAGAGTTTACTGG-40  0.180024  4.723650       13  Macrophages  CS170     H38   \n",
       "AAGCATCCAACCGCCA-40  0.172339  4.693343       13  Macrophages  CS170     H38   \n",
       "AAGGAATAGGCTGTAG-40  0.422765  4.473393       13  Macrophages  CS170     H38   \n",
       "AAGTTCGAGTAAACTG-40  0.038288  4.285389       13  Macrophages  CS170     H38   \n",
       "\n",
       "                                    cell  digest typeSample  diet  \\\n",
       "cell                                                                \n",
       "AAAGTCCCAGGACAGT-40  AAAGTCCCAGGACAGT-40  nuclei     nucSeq  Lean   \n",
       "AACAAGAGTTTACTGG-40  AACAAGAGTTTACTGG-40  nuclei     nucSeq  Lean   \n",
       "AAGCATCCAACCGCCA-40  AAGCATCCAACCGCCA-40  nuclei     nucSeq  Lean   \n",
       "AAGGAATAGGCTGTAG-40  AAGGAATAGGCTGTAG-40  nuclei     nucSeq  Lean   \n",
       "AAGTTCGAGTAAACTG-40  AAGTTCGAGTAAACTG-40  nuclei     nucSeq  Lean   \n",
       "\n",
       "                    cell_ontology_class  \n",
       "cell                                     \n",
       "AAAGTCCCAGGACAGT-40         Macrophages  \n",
       "AACAAGAGTTTACTGG-40         Macrophages  \n",
       "AAGCATCCAACCGCCA-40         Macrophages  \n",
       "AAGGAATAGGCTGTAG-40         Macrophages  \n",
       "AAGTTCGAGTAAACTG-40         Macrophages  "
      ]
     },
     "execution_count": 5,
     "metadata": {},
     "output_type": "execute_result"
    }
   ],
   "source": [
    "adata = sc.read_h5ad('./dataset/raw-liver-human-Martin.h5ad')\n",
    "adata.obs.head(5)"
   ]
  },
  {
   "cell_type": "code",
   "execution_count": null,
   "id": "0278aac6-ca2b-4bab-b2d3-7d528bc79bff",
   "metadata": {},
   "outputs": [],
   "source": []
  },
  {
   "cell_type": "markdown",
   "id": "b336d4d5-7f58-4725-9751-4759fa444e07",
   "metadata": {},
   "source": [
    "## It is worth noting that columns in a many-to-many homology relationship are the names of the datasets of the corresponding species."
   ]
  },
  {
   "cell_type": "markdown",
   "id": "2fb66d1d-c288-413d-9958-3641fdcb8c66",
   "metadata": {},
   "source": [
    "## Here, we use humans as a reference, mapping the genes of other species into the space of human genes."
   ]
  },
  {
   "cell_type": "code",
   "execution_count": 6,
   "id": "28d1ccd3-1fe6-41d4-9872-f648d63ff751",
   "metadata": {},
   "outputs": [
    {
     "data": {
      "text/html": [
       "<img src=\"./many-to-many.png\", width = 800, heigth = 400>\n"
      ],
      "text/plain": [
       "<IPython.core.display.HTML object>"
      ]
     },
     "metadata": {},
     "output_type": "display_data"
    }
   ],
   "source": [
    "%%html\n",
    "<img src=\"./many-to-many.png\", width = 800, heigth = 400>"
   ]
  },
  {
   "cell_type": "code",
   "execution_count": null,
   "id": "2f28c4d4-6d2d-4752-909e-796c7ec675f2",
   "metadata": {},
   "outputs": [],
   "source": []
  },
  {
   "cell_type": "markdown",
   "id": "e59d4a8f-0ae8-47eb-bd23-52e87a209e3b",
   "metadata": {},
   "source": [
    "## In addition, True represents specie dataset has the manual annotations, and vice versa does not"
   ]
  },
  {
   "cell_type": "markdown",
   "id": "257244ae-ff21-4522-ae8a-083bce4c88b3",
   "metadata": {},
   "source": [
    "## You can set any dataset to True for integration, and there must be a dataset True for annotations."
   ]
  },
  {
   "cell_type": "code",
   "execution_count": 7,
   "id": "cf48bb00-3c15-41cb-9485-baa643bdfa8a",
   "metadata": {},
   "outputs": [
    {
     "data": {
      "text/plain": [
       "['raw-liver-human-Martin.h5ad',\n",
       " True,\n",
       " 'gene_matches_human2monkey.csv',\n",
       " 'raw-liver-monkey-Martin.h5ad',\n",
       " False]"
      ]
     },
     "execution_count": 7,
     "metadata": {},
     "output_type": "execute_result"
    }
   ],
   "source": [
    "['raw-liver-human-Martin.h5ad', True, 'gene_matches_human2monkey.csv', 'raw-liver-monkey-Martin.h5ad', False]"
   ]
  },
  {
   "cell_type": "code",
   "execution_count": null,
   "id": "cc6155bb-8cdd-407c-8c6b-2612a5177965",
   "metadata": {},
   "outputs": [],
   "source": []
  }
 ],
 "metadata": {
  "kernelspec": {
   "display_name": "camex",
   "language": "python",
   "name": "camex"
  },
  "language_info": {
   "codemirror_mode": {
    "name": "ipython",
    "version": 3
   },
   "file_extension": ".py",
   "mimetype": "text/x-python",
   "name": "python",
   "nbconvert_exporter": "python",
   "pygments_lexer": "ipython3",
   "version": "3.9.0"
  }
 },
 "nbformat": 4,
 "nbformat_minor": 5
}
